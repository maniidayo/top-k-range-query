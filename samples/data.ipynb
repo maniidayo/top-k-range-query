{
 "cells": [
  {
   "cell_type": "code",
   "execution_count": 1,
   "metadata": {},
   "outputs": [
    {
     "name": "stdout",
     "output_type": "stream",
     "text": [
      "Defaulting to user installation because normal site-packages is not writeable\n",
      "Collecting pyarrow\n",
      "  Downloading pyarrow-18.0.0-cp310-cp310-manylinux_2_28_x86_64.whl (40.0 MB)\n",
      "\u001b[2K     \u001b[90m━━━━━━━━━━━━━━━━━━━━━━━━━━━━━━━━━━━━━━━━\u001b[0m \u001b[32m40.0/40.0 MB\u001b[0m \u001b[31m39.7 MB/s\u001b[0m eta \u001b[36m0:00:00\u001b[0m00:01\u001b[0m00:01\u001b[0m\n",
      "\u001b[?25hInstalling collected packages: pyarrow\n",
      "Successfully installed pyarrow-18.0.0\n",
      "Note: you may need to restart the kernel to use updated packages.\n"
     ]
    }
   ],
   "source": [
    "pip install pyarrow"
   ]
  },
  {
   "cell_type": "code",
   "execution_count": 2,
   "metadata": {},
   "outputs": [],
   "source": [
    "import pandas as pd\n",
    "import matplotlib.pyplot as plt\n",
    "from matplotlib.ticker import MultipleLocator, FormatStrFormatter\n",
    "import numpy as np"
   ]
  },
  {
   "cell_type": "code",
   "execution_count": null,
   "metadata": {},
   "outputs": [],
   "source": [
    "import pandas as pd\n",
    "\n",
    "# 파일 경로 설정\n",
    "parquet_path = \"yellow_tripdata_2024-08.parquet\"\n",
    "csv_output_path = \"diifs2.csv\"\n",
    "\n",
    "# Parquet 파일 읽기\n",
    "df = pd.read_parquet(parquet_path)\n",
    "\n",
    "# 픽업 및 드롭오프 시간 추출\n",
    "df['pickup_datetime'] = pd.to_datetime(df.iloc[:, 1])\n",
    "df['dropoff_datetime'] = pd.to_datetime(df.iloc[:, 2])\n",
    "\n",
    "# 기준점: 2024년 1월 1일 00:00:00\n",
    "reference_time = pd.Timestamp(\"2024-06-30 00:00:00\")\n",
    "\n",
    "# 기준점부터의 초 단위 차이 계산\n",
    "pickup_seconds = (df['pickup_datetime'] - reference_time).dt.total_seconds().astype(int)\n",
    "dropoff_seconds = (df['dropoff_datetime'] - reference_time).dt.total_seconds().astype(int)\n",
    "\n",
    "# 새로운 DataFrame 생성\n",
    "normalized_df = pd.DataFrame({\n",
    "    'pickup_seconds': pickup_seconds,\n",
    "    'dropoff_seconds': dropoff_seconds\n",
    "})\n",
    "\n",
    "# CSV 파일로 저장\n",
    "normalized_df.to_csv(csv_output_path, index=False)\n",
    "\n",
    "print(f\"Normalized intervals saved to: {csv_output_path}\")\n"
   ]
  },
  {
   "cell_type": "code",
   "execution_count": null,
   "metadata": {},
   "outputs": [],
   "source": [
    "import pandas as pd\n",
    "\n",
    "# 입력 CSV 파일과 출력 CSV 파일 경로 설정\n",
    "input_csv_path = \"yellow_tripdata_timestamp_diffs.csv\"\n",
    "output_csv_path = \"TAXIS.csv\"\n",
    "\n",
    "# CSV 파일 읽기\n",
    "df = pd.read_csv(input_csv_path)\n",
    "\n",
    "# 'pickup_seconds'와 'dropoff_seconds' 컬럼을 가져오기\n",
    "start_points = df['pickup_seconds']\n",
    "end_points = df['dropoff_seconds']\n",
    "\n",
    "# start_point의 최솟값 계산\n",
    "min_start_point = start_points.min()\n",
    "\n",
    "print(min_start_point)\n",
    "\n",
    "# 모든 start_point와 end_point에서 최솟값을 빼기\n",
    "df['start_point'] = start_points - min_start_point\n",
    "df['end_point'] = end_points - min_start_point\n",
    "\n",
    "# 변환된 결과로 새로운 DataFrame 생성\n",
    "shifted_df = df[['start_point', 'end_point']]\n",
    "\n",
    "# CSV 파일로 저장\n",
    "# shifted_df.to_csv(output_csv_path, index=False)\n",
    "\n",
    "# print(f\"Shifted intervals saved to: {output_csv_path}\")\n"
   ]
  },
  {
   "cell_type": "code",
   "execution_count": null,
   "metadata": {},
   "outputs": [],
   "source": [
    "import pandas as pd\n",
    "\n",
    "# CSV 파일 경로 설정\n",
    "input_csv_path = \"TAXIS.csv\"\n",
    "output_csv_path = \"cleaned_TAXIS.csv\"\n",
    "\n",
    "# CSV 파일 읽기 (첫 번째 열이 start_point, 두 번째 열이 end_point)\n",
    "df = pd.read_csv(input_csv_path, header=None, names=[\"start_point\", \"end_point\"])\n",
    "\n",
    "# 1. start_point > end_point 인 경우 제거\n",
    "df = df[df['start_point'] <= df['end_point']]\n",
    "\n",
    "# 2. 음수 값은 이번 데이터에서는 없으므로 처리할 필요가 없습니다.\n",
    "\n",
    "# 3. 길이 (end_point - start_point)가 0인 경우 제거\n",
    "df = df[df['end_point'] - df['start_point'] > 0]\n",
    "\n",
    "# 정제된 데이터 저장\n",
    "df.to_csv(output_csv_path, index=False)\n",
    "\n",
    "print(f\"Cleaned data saved to: {output_csv_path}\")\n"
   ]
  },
  {
   "cell_type": "code",
   "execution_count": null,
   "metadata": {},
   "outputs": [
    {
     "name": "stdout",
     "output_type": "stream",
     "text": [
      "Cardinality:\n",
      " 6053995\n",
      "\n",
      "Domain size:\n",
      " 6208602\n",
      "\n",
      "Min length:\n",
      " 1\n",
      "\n",
      "Max length:\n",
      " 580217\n",
      "\n",
      "Avg length:\n",
      " 1037.9356692564165\n",
      "percentage 0.016717703425930937\n"
     ]
    }
   ],
   "source": [
    "import pandas as pd\n",
    "\n",
    "# 파일 로드\n",
    "file_path = \"BOOKS.csv\"\n",
    "df = pd.read_csv(file_path, header=None, names=[\"start_point\", \"end_point\"])\n",
    "\n",
    "# 메트릭 계산\n",
    "cardinality = len(df)  # Cardinality: 행의 개수\n",
    "domain_size = df[\"end_point\"].max() - df[\"start_point\"].min()  # Domain size\n",
    "min_length = (df[\"end_point\"] - df[\"start_point\"]).min()  # Min length\n",
    "max_length = (df[\"end_point\"] - df[\"start_point\"]).max()  # Max length\n",
    "avg_length = (df[\"end_point\"] - df[\"start_point\"]).mean()  # Avg length\n",
    "\n",
    "# 결과 출력\n",
    "print(\"Cardinality:\\n\", cardinality)\n",
    "print(\"\\nDomain size:\\n\", domain_size)\n",
    "print(\"\\nMin length:\\n\", min_length)\n",
    "print(\"\\nMax length:\\n\", max_length)\n",
    "print(\"\\nAvg length:\\n\", avg_length)\n",
    "print(\"percentage\", avg_length / domain_size * 100)"
   ]
  }
 ],
 "metadata": {
  "kernelspec": {
   "display_name": "Python 3",
   "language": "python",
   "name": "python3"
  },
  "language_info": {
   "codemirror_mode": {
    "name": "ipython",
    "version": 3
   },
   "file_extension": ".py",
   "mimetype": "text/x-python",
   "name": "python",
   "nbconvert_exporter": "python",
   "pygments_lexer": "ipython3",
   "version": "3.10.12"
  }
 },
 "nbformat": 4,
 "nbformat_minor": 2
}
